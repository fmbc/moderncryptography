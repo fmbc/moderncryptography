{
 "cells": [
  {
   "cell_type": "code",
   "execution_count": 1,
   "metadata": {},
   "outputs": [],
   "source": [
    "class PrimeField:  \n",
    "    \n",
    "    ### 생성자 \n",
    "    def __init__(self, num, prime):\n",
    "        if num >= prime or num < 0:\n",
    "            error = 'Num {} not in field range 0 to {}'.format(num, prime - 1)\n",
    "            # 0 <= num <= p-1 이 아닌 ValueError를 반환하며 함수 동작 중단 (예외처리 구문)\n",
    "            raise ValueError(error)\n",
    "        self.num = num\n",
    "        self.prime = prime\n",
    "        \n",
    "        \n",
    "    ### 객체 표현 메서드 (객체명 실행 시 출력 정보 재정의)\n",
    "    def __repr__(self):\n",
    "        return '{} in Z_{}'.format(self.num, self.prime)\n",
    "    \n",
    "    \n",
    "    ### 두 소수체 원소가 서로 같은지, 다른지 판단 메서드 (==, != 연산자 재정의)\n",
    "    def __eq__(self, other):\n",
    "        # 비교 소수체 원소가 비어있는 객체이면 자명하게 거짓 반환\n",
    "        if other is None:\n",
    "            return False\n",
    "        # 값도 같고, 소수체를 정의하는 소수도 같은 경우 참 반환\n",
    "        return self.num == other.num and self.prime == other.prime\n",
    "    \n",
    "    \n",
    "    def __ne__(self, other):\n",
    "        # 두 객체가 다르면 참 반환, 다르면 거짓 반환\n",
    "        return not (self == other)\n",
    "    \n",
    "    \n",
    "    ### 덧셈 메서드 (+ 연산자 재정의)\n",
    "    # 두 소수체 객체 self와 other에 대해 self.num + other.num (mop p) 계산하기\n",
    "    def __add__(self, other):\n",
    "        # 두 소수체가 같은 prime 에서 정의된 것인지 판단하여 거짓이면 error 발생\n",
    "        # 같은 소수체에서 정의된 것이면 self.num + other.num (mop p) 값 계산\n",
    "        if self.prime != other.prime:\n",
    "            raise TypeError('Cannot add two numbers in different Fields')\n",
    "        num = (self.num + other.num) % self.prime\n",
    "        # 계산 결과를 현재 객체의 클래스 type(PrimeField)에 맞추어 반환\n",
    "        return self.__class__(num, self.prime)\n",
    "     \n",
    "        \n",
    "    ### 뺄셈 메서드 (- 연산자 재정의)\n",
    "    # 두 소수체 객체 self와 other에 대해 self.num - other.num (mop p) 계산하기\n",
    "    def __sub__(self, other):\n",
    "        # 두 소수체가 같은 prime 에서 정의된 것인지 판단하여 거짓이면 error 발생\n",
    "        # 같은 소수체에서 정의된 것이면 self.num - other.num (mop p) 값 계산\n",
    "        if self.prime != other.prime:  \n",
    "            raise TypeError('Cannot subtract two numbers in different Fields')\n",
    "        num = (self.num - other.num) % self.prime\n",
    "        # 계산 결과를 현재 객체의 클래스 type(PrimeField)에 맞추어 반환\n",
    "        return self.__class__(num, self.prime)\n",
    "    \n",
    "    \n",
    "    ### 곱셈 메서드 (* 연산자 재정의)\n",
    "    # 두 소수체 객체 self와 other에 대해 self.num * other.num (mop p) 계산하기\n",
    "    def __mul__(self, other):\n",
    "        # 두 소수체가 같은 prime 에서 정의된 것인지 판단하여 거짓이면 error 발생\n",
    "        if self.prime != other.prime:\n",
    "            raise TypeError('Cannot multiply two numbers in different Fields')\n",
    "        # 같은 소수체에서 정의된 것이면 self.num * other.num (mop p) 반환\n",
    "        num = (self.num * other.num) % self.prime\n",
    "        return self.__class__(num, self.prime)\n",
    "    \n",
    "    \n",
    "    ### 상수배 메서드 (정수와의 * 연산자 재정의)\n",
    "    # 소수체 객체 self 와 정수 상수 scalr 에 대해 scalar * self.num (mod p) 반환\n",
    "    # 위 곱셈 메서드에서 scalar 값이 0 <= scalar <= p-1 이 아니어도 계산할 수 있도록 로직을 수정하면 됨\n",
    "    def __rmul__(self, scalar):\n",
    "        num = (self.num * scalar) % self.prime\n",
    "        return self.__class__(num=num, prime=self.prime)\n",
    "    \n",
    "    \n",
    "    ### 빠른 거듭제곱 메서드 (** 연산자 재정의)\n",
    "    # 소수체 객체 self 와 정수 상수 scalar 에 대해 self.num 를 scalr 번 mod p로 거듭제곱 계산하기\n",
    "    def __pow__(self, exponent):\n",
    "        # 페르마의 작은 정리로 부터 scalar (mod p-1) 만큼 self.num 을 거듭제곱하면 됨\n",
    "        n = exponent % (self.prime - 1)\n",
    "        # self.num 을 scalar (mod p-1) 만큼 거듭제곱할 때 pow 함수를 사용하여 효율적으로 계산 (Square & Multiply)\n",
    "        num = pow(self.num, n, self.prime)\n",
    "        return self.__class__(num, self.prime)\n",
    "    \n",
    "    \n",
    "    ### 나눗셈 메서드 (/ 연산자 재정의)\n",
    "    # 두 소수체 객체 self와 other에 대해 self.num / other.num (mop p) 계산하기\n",
    "    def __truediv__(self, other):\n",
    "        # 두 소수체가 같은 prime 에서 정의된 것인지 판단하여 거짓이면 error 발생\n",
    "        if self.prime != other.prime:\n",
    "            raise TypeError('Cannot divide two numbers in different Fields')\n",
    "        # other.num == 0 이면 곱셈에 대한 역원이 존재하지 않으므로 error 발생\n",
    "        if other.num == 0:\n",
    "            raise TypeError('Does not exist the multiplicative inverse of 0')\n",
    "        # self.num * 1/other.num (mod p) 반환\n",
    "        num = (self.num * pow(other.num, self.prime - 2, self.prime)) % self.prime\n",
    "        return self.__class__(num, self.prime)\n",
    "    "
   ]
  },
  {
   "cell_type": "code",
   "execution_count": 2,
   "metadata": {
    "code_folding": []
   },
   "outputs": [],
   "source": [
    "class Point:\n",
    "    \n",
    "    ### 생성자 메서드\n",
    "    # 입력 : point 좌표 (x,y) 와 타원곡선 계수 (a,b)\n",
    "    # 모든 입력값들은 소수체 Z_p의 원소\n",
    "    # 무한원점 정의 : point 좌표 x 와 y 가 모두 None 인 점\n",
    "    def __init__(self, x, y, a, b):\n",
    "        self.a = a\n",
    "        self.b = b\n",
    "        self.x = x\n",
    "        self.y = y\n",
    "        if self.x is None and self.y is None:\n",
    "            return\n",
    "        ### 정의된 타원곡선 위의 점인지 판단\n",
    "        # 타원곡선을 정의하는 방정식을 만족하지 않는 경우 곡선 위의 점이 아님을 알리고 error 처리\n",
    "        # PrimeField 클래스를 import 하였기 때문에 아래 연산은 PrimeField 에서 정의한 연산법칙을 따름\n",
    "        if self.y**2 != self.x**3 + a * x + b:\n",
    "            raise ValueError('({}, {}) is not on the curve'.format(x, y))\n",
    "    \n",
    "    \n",
    "    ### 객체 표현 메서드\n",
    "    # 객체명을 실행했들 때 출력 정보 재정의\n",
    "    def __repr__(self):\n",
    "        # 무한원점 표현\n",
    "        if self.x is None:\n",
    "            return 'Point at Infinity (Pinf)'\n",
    "        # 일반적인 Point 표현 (Point 좌표와 타원곡선 계수 a & b)\n",
    "        else:\n",
    "            return 'Point({},{}) with a = {} and b = {}'.format(self.x, self.y, self.a, self.b)\n",
    "        \n",
    "        \n",
    "    ### 두 점이 서로 같은지 판단하는 메서드 (타원곡선 Group에서 Point에 대한 ==, != 연산자 재정의)\n",
    "    def __eq__(self, other):\n",
    "        # 비교 Point (other)가 비어있는 객체이면 자명하게 거짓 반환\n",
    "        if other is None:\n",
    "            return False\n",
    "        # 두 Point self 와 other 의 x 좌표, y 좌표가일치하고, 두 점이 정의된 타원곡선이 같을 때 같다고 판단\n",
    "        return (self.x == other.x and self.y == other.y) and (self.a == other.a and self.b == other.b)\n",
    "    \n",
    "    \n",
    "     ### 두 점이 서로 다른지 판단하는 메서드 (타원곡선 Group에서 Point에 대한 != 연산자 재정의)\n",
    "    def __ne__(self, other):\n",
    "        # 두 Point self 와 other 가 다르면 참 반환, 같으면 거짓 반환\n",
    "        return not (self == other)\n",
    "    \n",
    "    \n",
    "    ### 타원곡선 위의 점 덧셈 연산 메서드 (타원곡선 Group에서 Point에 대한 + 연산자 재정의)\n",
    "    def __add__(self, other):\n",
    "        # Point self 와 Point other 가 같은 타원곡선에서 정의된 경우만 연산 가능함\n",
    "        if self.a != other.a or self.b != other.b:\n",
    "            raise TypeError('Points {}, {} are not on the same curve'.format(self, other))\n",
    "            \n",
    "        ### Case 0: 두 point 중 하나가 무한원점인 경우\n",
    "        # Case 0.0: Point self 가 무한원점 O 인 경우 => Point other 를 return\n",
    "        if self.x is None:\n",
    "            return other     \n",
    "        # Case 0.1: Point other 가 무한원점 O 인 경우 => Point self 를 return\n",
    "        if other.x is None:\n",
    "            return self\n",
    "        \n",
    "        ### Case 1: self.x ≠ other.x (두 점의 x 좌표가 다른 경우)\n",
    "        # Formula (x3,y3) == (x1,y1) + (x2,y2)\n",
    "        # m = (y2 - y1) / (x2 - x1)\n",
    "        # x3 = m**2 - x1 - x2\n",
    "        # y3 = m * (x1 - x3) - y1\n",
    "        if self.x != other.x:\n",
    "            m = (other.y - self.y) / (other.x - self.x)\n",
    "            x = m**2 - self.x - other.x\n",
    "            y = m * (self.x - x) - self.y\n",
    "            return self.__class__(x, y, self.a, self.b)\n",
    "        \n",
    "        ### Case 2: self.x == other.x, self.y != other.y (두 점의 x 좌표가 같고 y 좌표가 다른 경우) \n",
    "        # 두 점을 지나는 직선이 y축과 평행 => 연산결과는 무한원점\n",
    "        if self.x == other.x and self.y != other.y:\n",
    "            return self.__class__(None, None, self.a, self.b)\n",
    "                \n",
    "        ### Case 3: self == other (두 점이 같은 경우, 즉, doubling)\n",
    "        # Case 3.1: self == other,  self.y == 0  => Point self에서 접선이 y축과 평행 => 2self 는 무한원점\n",
    "        if self == other and self.y == 0 * self.x:\n",
    "            return self.__class__(None, None, self.a, self.b)    \n",
    "        # Case 3.2: self == other,  self.y !=0 \n",
    "        # Formula (x3,y3) == (x1,y1) + (x1,y1)\n",
    "        # m = (3 * x1**2 + a) / (2 * y1)\n",
    "        # x3 = m**2 - 2 * x1\n",
    "        # y3 = m * (x1 - x3) - y1\n",
    "        if self == other:\n",
    "            m = (3 * self.x**2 + self.a) / (2 * self.y)\n",
    "            x = m**2 - 2 * self.x\n",
    "            y = m * (self.x - x) - self.y\n",
    "            return self.__class__(x, y, self.a, self.b)\n",
    "        \n",
    "        \n",
    "    ### 타원곡선 위의 점 뻴셈 연산 메서드 (타원곡선 Group에서 Point에 대한 - 연산자 재정의)\n",
    "    def __sub__(self, other):\n",
    "        # Point self 와 Point other 가 같은 타원곡선에서 정의된 경우만 연산 가능함\n",
    "        if self.a != other.a or self.b != other.b:\n",
    "            raise TypeError('Points {}, {} are not on the same curve'.format(self, other))\n",
    "        \n",
    "        # Case 0: other가 무한원점이 경우 => self - other = self\n",
    "        if other.x is None:\n",
    "            return self\n",
    "        \n",
    "        # Case 1: other가 무한원점이 아닌 경우 \n",
    "        # Formula (x3,y3) == (x1,y1) - (x2,y2) == (x1,y1) + (x2,-y2)\n",
    "        # -y2 = 0 - y2 in Z_p\n",
    "        y = 0*other.y - other.y\n",
    "        otherNeg = self.__class__(other.x, y, self.a, self.b)\n",
    "        return (self + otherNeg)\n",
    "        \n",
    "        \n",
    "    ### 타원곡선 Point 상수배 연산 메서드 (타원곡선 Point에 대해 정수와의 * 연산자 재정의)\n",
    "    # 빠른 지수승 연산의 덧셈 버전\n",
    "    # coefficient 가 음수인 경우는 Point self 의 order - coefficient가 되어야 함 (일단 생략)\n",
    "    def __rmul__(self, coefficient):\n",
    "        coef = coefficient\n",
    "        current = self  \n",
    "        result = self.__class__(None, None, self.a, self.b)  \n",
    "        while coef:\n",
    "            if coef & 1:  \n",
    "                result += current\n",
    "            current += current  \n",
    "            coef >>= 1  \n",
    "        return result\n",
    "    "
   ]
  },
  {
   "cell_type": "markdown",
   "metadata": {},
   "source": [
    "### init, repr"
   ]
  },
  {
   "cell_type": "code",
   "execution_count": 3,
   "metadata": {},
   "outputs": [],
   "source": [
    "### 소수 prime & 곡선 정의를 위한 계수 정의\n",
    "# y^2 = X^3 + 7 (mod 17)\n",
    "prime = 17\n",
    "a = PrimeField(0, prime)\n",
    "b = PrimeField(7, prime)"
   ]
  },
  {
   "cell_type": "code",
   "execution_count": 4,
   "metadata": {
    "scrolled": false
   },
   "outputs": [
    {
     "name": "stdout",
     "output_type": "stream",
     "text": [
      "Point(5 in Z_17,8 in Z_17) with a = 0 in Z_17 and b = 7 in Z_17\n"
     ]
    }
   ],
   "source": [
    "### point 객체 생성 1\n",
    "# (5,8) => 타원곡선 위에 존재\n",
    "x = PrimeField(5, prime)\n",
    "y = PrimeField(8, prime)\n",
    "P = Point(x, y, a, b)\n",
    "print(P)"
   ]
  },
  {
   "cell_type": "code",
   "execution_count": 5,
   "metadata": {},
   "outputs": [
    {
     "ename": "ValueError",
     "evalue": "(0 in Z_17, 2 in Z_17) is not on the curve",
     "output_type": "error",
     "traceback": [
      "\u001b[0;31m---------------------------------------------------------------------------\u001b[0m",
      "\u001b[0;31mValueError\u001b[0m                                Traceback (most recent call last)",
      "\u001b[0;32m/var/folders/cb/dxnxvv4x49x68x48bvsqls6c0000gn/T/ipykernel_29494/457134714.py\u001b[0m in \u001b[0;36m<module>\u001b[0;34m\u001b[0m\n\u001b[1;32m      3\u001b[0m \u001b[0mx\u001b[0m \u001b[0;34m=\u001b[0m \u001b[0mPrimeField\u001b[0m\u001b[0;34m(\u001b[0m\u001b[0;36m0\u001b[0m\u001b[0;34m,\u001b[0m \u001b[0mprime\u001b[0m\u001b[0;34m)\u001b[0m\u001b[0;34m\u001b[0m\u001b[0;34m\u001b[0m\u001b[0m\n\u001b[1;32m      4\u001b[0m \u001b[0my\u001b[0m \u001b[0;34m=\u001b[0m \u001b[0mPrimeField\u001b[0m\u001b[0;34m(\u001b[0m\u001b[0;36m2\u001b[0m\u001b[0;34m,\u001b[0m \u001b[0mprime\u001b[0m\u001b[0;34m)\u001b[0m\u001b[0;34m\u001b[0m\u001b[0;34m\u001b[0m\u001b[0m\n\u001b[0;32m----> 5\u001b[0;31m \u001b[0mQ\u001b[0m \u001b[0;34m=\u001b[0m \u001b[0mPoint\u001b[0m\u001b[0;34m(\u001b[0m\u001b[0mx\u001b[0m\u001b[0;34m,\u001b[0m \u001b[0my\u001b[0m\u001b[0;34m,\u001b[0m \u001b[0ma\u001b[0m\u001b[0;34m,\u001b[0m \u001b[0mb\u001b[0m\u001b[0;34m)\u001b[0m\u001b[0;34m\u001b[0m\u001b[0;34m\u001b[0m\u001b[0m\n\u001b[0m\u001b[1;32m      6\u001b[0m \u001b[0mprint\u001b[0m\u001b[0;34m(\u001b[0m\u001b[0mQ\u001b[0m\u001b[0;34m)\u001b[0m\u001b[0;34m\u001b[0m\u001b[0;34m\u001b[0m\u001b[0m\n",
      "\u001b[0;32m/var/folders/cb/dxnxvv4x49x68x48bvsqls6c0000gn/T/ipykernel_29494/3325802221.py\u001b[0m in \u001b[0;36m__init__\u001b[0;34m(self, x, y, a, b)\u001b[0m\n\u001b[1;32m     16\u001b[0m         \u001b[0;31m# PrimeField 클래스를 import 하였기 때문에 아래 연산은 PrimeField 에서 정의한 연산법칙을 따름\u001b[0m\u001b[0;34m\u001b[0m\u001b[0;34m\u001b[0m\u001b[0m\n\u001b[1;32m     17\u001b[0m         \u001b[0;32mif\u001b[0m \u001b[0mself\u001b[0m\u001b[0;34m.\u001b[0m\u001b[0my\u001b[0m\u001b[0;34m**\u001b[0m\u001b[0;36m2\u001b[0m \u001b[0;34m!=\u001b[0m \u001b[0mself\u001b[0m\u001b[0;34m.\u001b[0m\u001b[0mx\u001b[0m\u001b[0;34m**\u001b[0m\u001b[0;36m3\u001b[0m \u001b[0;34m+\u001b[0m \u001b[0ma\u001b[0m \u001b[0;34m*\u001b[0m \u001b[0mx\u001b[0m \u001b[0;34m+\u001b[0m \u001b[0mb\u001b[0m\u001b[0;34m:\u001b[0m\u001b[0;34m\u001b[0m\u001b[0;34m\u001b[0m\u001b[0m\n\u001b[0;32m---> 18\u001b[0;31m             \u001b[0;32mraise\u001b[0m \u001b[0mValueError\u001b[0m\u001b[0;34m(\u001b[0m\u001b[0;34m'({}, {}) is not on the curve'\u001b[0m\u001b[0;34m.\u001b[0m\u001b[0mformat\u001b[0m\u001b[0;34m(\u001b[0m\u001b[0mx\u001b[0m\u001b[0;34m,\u001b[0m \u001b[0my\u001b[0m\u001b[0;34m)\u001b[0m\u001b[0;34m)\u001b[0m\u001b[0;34m\u001b[0m\u001b[0;34m\u001b[0m\u001b[0m\n\u001b[0m\u001b[1;32m     19\u001b[0m \u001b[0;34m\u001b[0m\u001b[0m\n\u001b[1;32m     20\u001b[0m \u001b[0;34m\u001b[0m\u001b[0m\n",
      "\u001b[0;31mValueError\u001b[0m: (0 in Z_17, 2 in Z_17) is not on the curve"
     ]
    }
   ],
   "source": [
    "### point 객체 생성 2\n",
    "# (0,2) => 타원곡선 위에 존재하지  않음\n",
    "x = PrimeField(0, prime)\n",
    "y = PrimeField(2, prime)\n",
    "Q = Point(x, y, a, b)\n",
    "print(Q)"
   ]
  },
  {
   "cell_type": "code",
   "execution_count": 6,
   "metadata": {},
   "outputs": [
    {
     "data": {
      "text/plain": [
       "Point at Infinity (Pinf)"
      ]
     },
     "execution_count": 6,
     "metadata": {},
     "output_type": "execute_result"
    }
   ],
   "source": [
    "### point 객체 생성 3\n",
    "# 무한원점 Pinf 생성\n",
    "P_inf = Point(None, None, a, b)\n",
    "P_inf"
   ]
  },
  {
   "cell_type": "markdown",
   "metadata": {},
   "source": [
    "### eq, neq"
   ]
  },
  {
   "cell_type": "code",
   "execution_count": 7,
   "metadata": {},
   "outputs": [
    {
     "name": "stdout",
     "output_type": "stream",
     "text": [
      "True False\n"
     ]
    }
   ],
   "source": [
    "### 점들간 == 과 != 연산\n",
    "print(P == P, P == P_inf)"
   ]
  },
  {
   "cell_type": "markdown",
   "metadata": {},
   "source": [
    "### add"
   ]
  },
  {
   "cell_type": "code",
   "execution_count": 8,
   "metadata": {},
   "outputs": [
    {
     "name": "stdout",
     "output_type": "stream",
     "text": [
      "True\n",
      "True\n"
     ]
    }
   ],
   "source": [
    "### 덧셈 Case 0: 두 point 중 하나가 무한원점인 경우 \n",
    "x = PrimeField(5, prime)\n",
    "y = PrimeField(8, prime)\n",
    "P = Point(x, y, a, b) # P(5,8)\n",
    "print(P_inf + P == P)\n",
    "print(P + P_inf == P)"
   ]
  },
  {
   "cell_type": "code",
   "execution_count": 9,
   "metadata": {},
   "outputs": [
    {
     "name": "stdout",
     "output_type": "stream",
     "text": [
      "Point(10 in Z_17,2 in Z_17) with a = 0 in Z_17 and b = 7 in Z_17\n",
      "Point(10 in Z_17,2 in Z_17) with a = 0 in Z_17 and b = 7 in Z_17\n"
     ]
    }
   ],
   "source": [
    "### 덧셈 Case 1: 두 점의 x 좌표가 다른 경우\n",
    "x = PrimeField(5, prime)\n",
    "y = PrimeField(8, prime)\n",
    "P = Point(x, y, a, b) # P(5,8)\n",
    "x = PrimeField(6, prime)\n",
    "y = PrimeField(6, prime)\n",
    "Q = Point(x, y, a, b) # P(6,6)\n",
    "print(P + Q)\n",
    "print(Q + P)"
   ]
  },
  {
   "cell_type": "code",
   "execution_count": 10,
   "metadata": {},
   "outputs": [
    {
     "name": "stdout",
     "output_type": "stream",
     "text": [
      "Point at Infinity (Pinf)\n",
      "Point at Infinity (Pinf)\n"
     ]
    }
   ],
   "source": [
    "### 덧셈 Case 2: 두 점의 x 좌표가 같고 y 좌표가 다른 경우\n",
    "x = PrimeField(5, prime)\n",
    "y = PrimeField(8, prime)\n",
    "P = Point(x, y, a, b) # P(5,8)\n",
    "x = PrimeField(5, prime)\n",
    "y = PrimeField(9, prime)\n",
    "Q = Point(x, y, a, b) # P(5,9)\n",
    "print(P + Q)\n",
    "print(Q + P)"
   ]
  },
  {
   "cell_type": "code",
   "execution_count": 11,
   "metadata": {},
   "outputs": [
    {
     "name": "stdout",
     "output_type": "stream",
     "text": [
      "Point at Infinity (Pinf)\n"
     ]
    }
   ],
   "source": [
    "### 덧셈 Case 3.1: P + P, P 의 y 좌표가 0 인 경우\n",
    "x = PrimeField(3, prime)\n",
    "y = PrimeField(0, prime)\n",
    "P = Point(x, y, a, b) # P(3,0)\n",
    "print(P + P)"
   ]
  },
  {
   "cell_type": "code",
   "execution_count": 12,
   "metadata": {},
   "outputs": [
    {
     "name": "stdout",
     "output_type": "stream",
     "text": [
      "Point(5 in Z_17,9 in Z_17) with a = 0 in Z_17 and b = 7 in Z_17\n"
     ]
    }
   ],
   "source": [
    "### 덧셈 Case 3.2: P + P, P 의 y 좌표가 0 이 아닌 경우\n",
    "x = PrimeField(5, prime)\n",
    "y = PrimeField(8, prime)\n",
    "P = Point(x, y, a, b) # P(5,8)\n",
    "print(P + P)"
   ]
  },
  {
   "cell_type": "markdown",
   "metadata": {},
   "source": [
    "### sub"
   ]
  },
  {
   "cell_type": "code",
   "execution_count": 13,
   "metadata": {},
   "outputs": [
    {
     "name": "stdout",
     "output_type": "stream",
     "text": [
      "Point(5 in Z_17,8 in Z_17) with a = 0 in Z_17 and b = 7 in Z_17\n",
      "Point(5 in Z_17,9 in Z_17) with a = 0 in Z_17 and b = 7 in Z_17\n",
      "Point(10 in Z_17,2 in Z_17) with a = 0 in Z_17 and b = 7 in Z_17\n",
      "Point(5 in Z_17,8 in Z_17) with a = 0 in Z_17 and b = 7 in Z_17\n"
     ]
    }
   ],
   "source": [
    "x = PrimeField(5, prime)\n",
    "y = PrimeField(8, prime)\n",
    "P = Point(x, y, a, b) # P(5,8)\n",
    "print(P - P_inf)\n",
    "print(P_inf - P)\n",
    "\n",
    "x = PrimeField(6, prime)\n",
    "y = PrimeField(6, prime)\n",
    "Q = Point(x, y, a, b) # Q(6,6)\n",
    "R = P + Q\n",
    "print(R)\n",
    "print(R - Q)"
   ]
  },
  {
   "cell_type": "markdown",
   "metadata": {},
   "source": [
    "### rmul"
   ]
  },
  {
   "cell_type": "code",
   "execution_count": 14,
   "metadata": {},
   "outputs": [
    {
     "name": "stdout",
     "output_type": "stream",
     "text": [
      "1*(15,13) = Point(15 in Z_17,13 in Z_17) with a = 0 in Z_17 and b = 7 in Z_17\n",
      "2*(15,13) = Point(2 in Z_17,10 in Z_17) with a = 0 in Z_17 and b = 7 in Z_17\n",
      "3*(15,13) = Point(8 in Z_17,3 in Z_17) with a = 0 in Z_17 and b = 7 in Z_17\n",
      "4*(15,13) = Point(12 in Z_17,1 in Z_17) with a = 0 in Z_17 and b = 7 in Z_17\n",
      "5*(15,13) = Point(6 in Z_17,6 in Z_17) with a = 0 in Z_17 and b = 7 in Z_17\n",
      "6*(15,13) = Point(5 in Z_17,8 in Z_17) with a = 0 in Z_17 and b = 7 in Z_17\n",
      "7*(15,13) = Point(10 in Z_17,15 in Z_17) with a = 0 in Z_17 and b = 7 in Z_17\n",
      "8*(15,13) = Point(1 in Z_17,12 in Z_17) with a = 0 in Z_17 and b = 7 in Z_17\n",
      "9*(15,13) = Point(3 in Z_17,0 in Z_17) with a = 0 in Z_17 and b = 7 in Z_17\n",
      "10*(15,13) = Point(1 in Z_17,5 in Z_17) with a = 0 in Z_17 and b = 7 in Z_17\n",
      "11*(15,13) = Point(10 in Z_17,2 in Z_17) with a = 0 in Z_17 and b = 7 in Z_17\n",
      "12*(15,13) = Point(5 in Z_17,9 in Z_17) with a = 0 in Z_17 and b = 7 in Z_17\n",
      "13*(15,13) = Point(6 in Z_17,11 in Z_17) with a = 0 in Z_17 and b = 7 in Z_17\n",
      "14*(15,13) = Point(12 in Z_17,16 in Z_17) with a = 0 in Z_17 and b = 7 in Z_17\n",
      "15*(15,13) = Point(8 in Z_17,14 in Z_17) with a = 0 in Z_17 and b = 7 in Z_17\n",
      "16*(15,13) = Point(2 in Z_17,7 in Z_17) with a = 0 in Z_17 and b = 7 in Z_17\n",
      "17*(15,13) = Point(15 in Z_17,4 in Z_17) with a = 0 in Z_17 and b = 7 in Z_17\n",
      "18*(15,13) = Point at Infinity (Pinf)\n"
     ]
    }
   ],
   "source": [
    "### 점에 대한 상수배 연산\n",
    "x = PrimeField(15, prime)\n",
    "y = PrimeField(13, prime)\n",
    "G = Point(x, y, a, b) # G(15,13)\n",
    "\n",
    "# for문 =1, 2, ... 18 까지 for문 아래 문장 수행 \n",
    "for i in range(1,19):\n",
    "    res = i*G\n",
    "    print('{}*(15,13) = {}'.format(i,res))"
   ]
  }
 ],
 "metadata": {
  "kernelspec": {
   "display_name": "Python 3 (ipykernel)",
   "language": "python",
   "name": "python3"
  },
  "language_info": {
   "codemirror_mode": {
    "name": "ipython",
    "version": 3
   },
   "file_extension": ".py",
   "mimetype": "text/x-python",
   "name": "python",
   "nbconvert_exporter": "python",
   "pygments_lexer": "ipython3",
   "version": "3.9.7"
  }
 },
 "nbformat": 4,
 "nbformat_minor": 4
}
