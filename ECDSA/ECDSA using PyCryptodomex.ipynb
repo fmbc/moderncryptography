{
 "cells": [
  {
   "cell_type": "code",
   "execution_count": 1,
   "metadata": {},
   "outputs": [],
   "source": [
    "# 라이브러리 import\n",
    "from Cryptodome.Hash import SHA256\n",
    "from Cryptodome.PublicKey import ECC\n",
    "from Cryptodome.Signature import DSS"
   ]
  },
  {
   "cell_type": "code",
   "execution_count": 2,
   "metadata": {},
   "outputs": [
    {
     "data": {
      "text/plain": [
       "EccKey(curve='NIST P-256', point_x=28845272756900242653037216016459882470707372294309541446010864340910977509214, point_y=4379861682589980569742739505009248388856371357119996346643136315703209491210, d=687517658107077488379581991093080519847928444623867315207450015559987159411)"
      ]
     },
     "execution_count": 2,
     "metadata": {},
     "output_type": "execute_result"
    }
   ],
   "source": [
    "# 키 생성\n",
    "key = ECC.generate(curve='P-256')\n",
    "key"
   ]
  },
  {
   "cell_type": "code",
   "execution_count": 3,
   "metadata": {},
   "outputs": [],
   "source": [
    "# 개인키 저장 (pem 포맷)\n",
    "private_key = key.export_key(format='PEM')\n",
    "f = open('private.pem','wt')\n",
    "f.write(private_key)\n",
    "f.close()"
   ]
  },
  {
   "cell_type": "code",
   "execution_count": 4,
   "metadata": {},
   "outputs": [],
   "source": [
    "# 공개키 저장 (pem 포맷)\n",
    "public_key = key.public_key().export_key(format='PEM')\n",
    "f = open('public.pem','wt')\n",
    "f.write(public_key)\n",
    "f.close()"
   ]
  },
  {
   "cell_type": "code",
   "execution_count": 5,
   "metadata": {},
   "outputs": [],
   "source": [
    "# 서명키 읽어오기\n",
    "sining_key = ECC.import_key(open('private.pem').read())\n",
    "\n",
    "# 서명 생성\n",
    "message = b'I give my permission to order #4355'\n",
    "e = SHA256.new(message)\n",
    "signer = DSS.new(sining_key, 'fips-186-3')\n",
    "signature = signer.sign(e)"
   ]
  },
  {
   "cell_type": "code",
   "execution_count": 6,
   "metadata": {},
   "outputs": [
    {
     "name": "stdout",
     "output_type": "stream",
     "text": [
      "The message is authentic.\n"
     ]
    }
   ],
   "source": [
    "# 검증키 읽어오기\n",
    "verifying_key = ECC.import_key(open('public.pem').read())\n",
    "\n",
    "# 서명 검증\n",
    "received_message = b'I give my permission to order #4355'\n",
    "ee = SHA256.new(received_message)\n",
    "verifier = DSS.new(verifying_key, 'fips-186-3')\n",
    "try:\n",
    "    verifier.verify(ee, signature)\n",
    "    print(\"The message is authentic.\")\n",
    "except ValueError:\n",
    "    print(\"The message is not authentic.\")"
   ]
  },
  {
   "cell_type": "code",
   "execution_count": null,
   "metadata": {},
   "outputs": [],
   "source": []
  }
 ],
 "metadata": {
  "kernelspec": {
   "display_name": "Python 3",
   "language": "python",
   "name": "python3"
  },
  "language_info": {
   "codemirror_mode": {
    "name": "ipython",
    "version": 3
   },
   "file_extension": ".py",
   "mimetype": "text/x-python",
   "name": "python",
   "nbconvert_exporter": "python",
   "pygments_lexer": "ipython3",
   "version": "3.8.5"
  }
 },
 "nbformat": 4,
 "nbformat_minor": 4
}
