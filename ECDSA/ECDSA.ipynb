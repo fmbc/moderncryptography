{
 "cells": [
  {
   "cell_type": "code",
   "execution_count": 2,
   "metadata": {},
   "outputs": [],
   "source": [
    "### 필요한 module import 하기 ###\n",
    "# 지난 실습에서 구현한 PrimeField 클래스와 Point 클래스 사용\n",
    "from ECclass import *"
   ]
  },
  {
   "cell_type": "code",
   "execution_count": 3,
   "metadata": {},
   "outputs": [],
   "source": [
    "### secp256k1 곡선의 유한체 파라미터\n",
    "Prime = 2**256 - 2**32 - 977"
   ]
  },
  {
   "cell_type": "code",
   "execution_count": 4,
   "metadata": {},
   "outputs": [],
   "source": [
    "### secp256k1 곡선을 위한 유한체 클래스 정의\n",
    "class S256Field(PrimeField):\n",
    "\n",
    "    # FieldElement 클래스를 상속하고, prime 만 secp256k1 의 prime 으로 할당\n",
    "    def __init__(self, num, prime=None):\n",
    "        super().__init__(num=num, prime=Prime)\n",
    "\n",
    "    # 유한체 원소 표현시 일관되게 256 비트임을 표현하기 위해 zfill 메서드를 이용하여 빈자리를 '0' 으로 채움\n",
    "    # 1 바이트 : 2개의 16진수로 표현 => 32 바이트 => 64 개 16진수로 표현\n",
    "    def __repr__(self):\n",
    "        #{:x}'.format(self.num) => num 을 16진수 문자열로 표현\n",
    "        # zfill 메서드 : 파이썬 문자열 앞을 0으로 채우기\n",
    "        return '{:x}'.format(self.num).zfill(64)"
   ]
  },
  {
   "cell_type": "code",
   "execution_count": 6,
   "metadata": {},
   "outputs": [
    {
     "data": {
      "text/plain": [
       "0000000000000000000000000000000000000000000000000000000000000007"
      ]
     },
     "execution_count": 6,
     "metadata": {},
     "output_type": "execute_result"
    }
   ],
   "source": [
    "a = S256Field(7)\n",
    "a"
   ]
  },
  {
   "cell_type": "code",
   "execution_count": 7,
   "metadata": {},
   "outputs": [],
   "source": [
    "### secp256k1 타원곡선 (y^2 = x^3 + Ax + B)\n",
    "A = 0\n",
    "B = 7\n",
    "### secp256k1 타원곡선 Group generator 위수 (generator는 클래스 정의 후 point 설정)\n",
    "N = 0xfffffffffffffffffffffffffffffffebaaedce6af48a03bbfd25e8cd0364141"
   ]
  },
  {
   "cell_type": "code",
   "execution_count": 11,
   "metadata": {},
   "outputs": [],
   "source": [
    "class S256Point(Point):\n",
    "\n",
    "    # Point 클래스를 상속. S256Field 클래스를 이용하여 field 객체를 재정의.\n",
    "    def __init__(self, x, y, a=None, b=None):\n",
    "        a, b = S256Field(A), S256Field(B)\n",
    "        # 만약 point 좌표가 S256Field 객체가 아닌 정수로 들어온 경우, \n",
    "        # 입력 정수에 대해 S256Field 객체를 생성하고 그에 따라 Point 객체 생성\n",
    "        if type(x) == int:\n",
    "            super().__init__(x=S256Field(x), y=S256Field(y), a=a, b=b)\n",
    "        else:\n",
    "            super().__init__(x=x, y=y, a=a, b=b)\n",
    "\n",
    "    # SECPK256K1 곡선위의 Point 표현\n",
    "    def __repr__(self):\n",
    "        if self.x is None:\n",
    "            return 'S256Point(infinity)'\n",
    "        else:\n",
    "            return 'S256Point({}, {})'.format(self.x, self.y)\n",
    "\n",
    "    # 생성자의 위수가 N => r * G = (r mod N) * G\n",
    "    def __rmul__(self, coefficient):\n",
    "        coef = coefficient % N\n",
    "        return super().__rmul__(coef)"
   ]
  },
  {
   "cell_type": "code",
   "execution_count": 13,
   "metadata": {
    "scrolled": true
   },
   "outputs": [
    {
     "data": {
      "text/plain": [
       "S256Point(79be667ef9dcbbac55a06295ce870b07029bfcdb2dce28d959f2815b16f81798, 483ada7726a3c4655da4fbfc0e1108a8fd17b448a68554199c47d08ffb10d4b8)"
      ]
     },
     "execution_count": 13,
     "metadata": {},
     "output_type": "execute_result"
    }
   ],
   "source": [
    "### secp256k1 타원곡선 Group generator\n",
    "G = S256Point(\n",
    "    0x79be667ef9dcbbac55a06295ce870b07029bfcdb2dce28d959f2815b16f81798,\n",
    "    0x483ada7726a3c4655da4fbfc0e1108a8fd17b448a68554199c47d08ffb10d4b8)\n",
    "G"
   ]
  },
  {
   "cell_type": "markdown",
   "metadata": {},
   "source": [
    "### ECDSA 구현에 필요한 모듈 및 함수 import"
   ]
  },
  {
   "cell_type": "code",
   "execution_count": 14,
   "metadata": {},
   "outputs": [],
   "source": [
    "# 표준 해시함수 SHA256 사용을 위해 hashlib 모듈 import\n",
    "# 의사난수생성을 위해 random 모듈의 randint 함수 import (randint(a,b): a 이상 b 이하의 random 정수를 반환)\n",
    "import hashlib\n",
    "from random import randint"
   ]
  },
  {
   "cell_type": "code",
   "execution_count": 15,
   "metadata": {},
   "outputs": [],
   "source": [
    "### hash256 함수 정의\n",
    "def hash256(s):\n",
    "    return hashlib.sha256(hashlib.sha256(s).digest()).digest()"
   ]
  },
  {
   "cell_type": "markdown",
   "metadata": {},
   "source": [
    "### ECDSA 공개키/개인키 생성"
   ]
  },
  {
   "cell_type": "code",
   "execution_count": 16,
   "metadata": {},
   "outputs": [
    {
     "name": "stdout",
     "output_type": "stream",
     "text": [
      "ae4e28308d01c77dd329318f3997b9c518799038b99ca21f534467d30fd0312b\n",
      "S256Point(e6cfb10932b883417efed0f6e1c4a176cb47406fb71f8e740e183bd7e4956d52, 828b481fcae4cacc41224f635df5b68b9d0bfa6116751ae9d688233a2ed92d0f)\n"
     ]
    }
   ],
   "source": [
    "### 개인키 (서명키) & 공개키 (서명 검증키) 생성\n",
    "# 개인키 prikey: 0 <= a  <= N-1\n",
    "a = randint(0,N-1)\n",
    "print('{:x}'.format(a).zfill(64))\n",
    "# 공개키 pubkey: aG\n",
    "Q = a*G\n",
    "print(Q)"
   ]
  },
  {
   "cell_type": "markdown",
   "metadata": {},
   "source": [
    "### ECDSA 서명 생성: 메시지 m 에 대해 서명 (x,s) 생성"
   ]
  },
  {
   "cell_type": "code",
   "execution_count": 17,
   "metadata": {},
   "outputs": [
    {
     "name": "stdout",
     "output_type": "stream",
     "text": [
      "b'my message'\n",
      "0231c6f3d980a6b0fb7152f85cee7eb52bf92433d9919b9c5218cb08e79cce78\n"
     ]
    }
   ],
   "source": [
    "### 서명한 메시지에 대한 해시값 계산\n",
    "# 예시 메시지 m = 'my message' 에 대한 해시값 0 <= e(=f(m)) < 계산하기\n",
    "# 1) 문자열 m 을 바이트열로 인코딩하여 저장 (각 문자를 아스키코드값으로 저장하는 바이트열로 변환)\n",
    "m = b'my message'\n",
    "print(m)\n",
    "# 2) 바이트열 f(m) = sha256(sha256(m)) 계산하고, 정수형 데이터로 변환\n",
    "# int.from_bytes : \n",
    "e = int.from_bytes(hash256(m),'big') % N\n",
    "print('{:x}'.format(e).zfill(64))"
   ]
  },
  {
   "cell_type": "code",
   "execution_count": 18,
   "metadata": {},
   "outputs": [
    {
     "name": "stdout",
     "output_type": "stream",
     "text": [
      "S256Point(2826e6704c2b0e673aba57a665826f2d1d1a6e50020d82e7ab27341245a80307, eeae3854931014215ed56ac57afc189e00d9c35b3b3933135fdca18cd190605d)\n",
      "2826e6704c2b0e673aba57a665826f2d1d1a6e50020d82e7ab27341245a80307\n"
     ]
    }
   ],
   "source": [
    "### 서명의 x 값 생성하기\n",
    "# 1) random 정수 1 <= r < N 에 대해, R = rG 계산\n",
    "r = randint(1,N-1)\n",
    "R = r*G\n",
    "print(R)\n",
    "# 2) x 를 R 의 x 좌표 값으로 반환\n",
    "x = R.x.num\n",
    "print('{:x}'.format(x).zfill(64))"
   ]
  },
  {
   "cell_type": "code",
   "execution_count": 20,
   "metadata": {},
   "outputs": [
    {
     "name": "stdout",
     "output_type": "stream",
     "text": [
      "165220e66016445829a0942828dced6bca69a1340ece1430cfd6af3ebb230c30\n"
     ]
    }
   ],
   "source": [
    "### 서명의 s 값 생성하기\n",
    "# 1) r 의 mod N 역원 계산\n",
    "r_inv = pow(r,N-2,N)\n",
    "# 2) s := rinv*(e+a*x) (mon N) 계산\n",
    "s = (r_inv * (e + a*x)) % N\n",
    "print('{:x}'.format(s).zfill(64))"
   ]
  },
  {
   "cell_type": "markdown",
   "metadata": {},
   "source": [
    "### ECDSA 서명 검증: 수신 메시지 m 에 대해 서명 (x,s) 검증"
   ]
  },
  {
   "cell_type": "code",
   "execution_count": 21,
   "metadata": {},
   "outputs": [
    {
     "name": "stdout",
     "output_type": "stream",
     "text": [
      "0231c6f3d980a6b0fb7152f85cee7eb52bf92433d9919b9c5218cb08e79cce78\n"
     ]
    }
   ],
   "source": [
    "### 수신 메시지에 대한 해시값 계산\n",
    "# 수신 메시지 M = 'my message' 에 대한 해시값 0 <= E(=f(M)) < 계산하기\n",
    "# 1) 문자열 m 을 바이트열로 인코딩하여 저장 (각 문자를 아스키코드값으로 저장하는 바이트열로 변환)\n",
    "M = b'my message'\n",
    "# 2) 바이트열 f(m) = sha256(sha256(m)) 계산하고, 정수형 데이터로 변환\n",
    "E = int.from_bytes(hash256(M),'big') % N\n",
    "print('{:x}'.format(E).zfill(64))"
   ]
  },
  {
   "cell_type": "code",
   "execution_count": 22,
   "metadata": {},
   "outputs": [
    {
     "name": "stdout",
     "output_type": "stream",
     "text": [
      "f2003220191bb2b03b0efcd257c9da20b078d0b7eb2d6d87fe766e2f6d8e2ca7\n"
     ]
    }
   ],
   "source": [
    "### v1 = E/s =(mod N) 계산\n",
    "s_inv = pow(s,N-2,N)\n",
    "v1 = (E * s_inv) % N\n",
    "print('{:x}'.format(v1).zfill(64))"
   ]
  },
  {
   "cell_type": "code",
   "execution_count": 23,
   "metadata": {},
   "outputs": [
    {
     "name": "stdout",
     "output_type": "stream",
     "text": [
      "d90a88e96dada30fcbdd949414c7655b9539c0f562583a939f596da4e80e7ca5\n"
     ]
    }
   ],
   "source": [
    "### v2 = x/s =(mod N) 계산\n",
    "v2 = (x * s_inv) % N\n",
    "print('{:x}'.format(v2).zfill(64))"
   ]
  },
  {
   "cell_type": "code",
   "execution_count": 24,
   "metadata": {},
   "outputs": [
    {
     "name": "stdout",
     "output_type": "stream",
     "text": [
      "S256Point(2826e6704c2b0e673aba57a665826f2d1d1a6e50020d82e7ab27341245a80307, eeae3854931014215ed56ac57afc189e00d9c35b3b3933135fdca18cd190605d)\n"
     ]
    }
   ],
   "source": [
    "### V = v1*G + v2*Q 계산\n",
    "V = v1*G + v2*Q\n",
    "print(V)"
   ]
  },
  {
   "cell_type": "code",
   "execution_count": 25,
   "metadata": {},
   "outputs": [
    {
     "data": {
      "text/plain": [
       "True"
      ]
     },
     "execution_count": 25,
     "metadata": {},
     "output_type": "execute_result"
    }
   ],
   "source": [
    "### 서명의 x 와 V point 의 x 좌표가 같은지 검증\n",
    "x == V.x.num"
   ]
  }
 ],
 "metadata": {
  "kernelspec": {
   "display_name": "Python 3 (ipykernel)",
   "language": "python",
   "name": "python3"
  },
  "language_info": {
   "codemirror_mode": {
    "name": "ipython",
    "version": 3
   },
   "file_extension": ".py",
   "mimetype": "text/x-python",
   "name": "python",
   "nbconvert_exporter": "python",
   "pygments_lexer": "ipython3",
   "version": "3.9.7"
  }
 },
 "nbformat": 4,
 "nbformat_minor": 4
}
